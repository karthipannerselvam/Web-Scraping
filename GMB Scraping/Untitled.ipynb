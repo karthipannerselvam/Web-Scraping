{
 "cells": [
  {
   "cell_type": "code",
   "execution_count": 1,
   "id": "6990c21c",
   "metadata": {},
   "outputs": [
    {
     "name": "stdout",
     "output_type": "stream",
     "text": [
      "Requirement already satisfied: pip in c:\\users\\hp\\anaconda3\\lib\\site-packages (24.2)\n"
     ]
    }
   ],
   "source": [
    "!python -m pip install --upgrade pip"
   ]
  },
  {
   "cell_type": "code",
   "execution_count": 2,
   "id": "c1b8d2e1",
   "metadata": {},
   "outputs": [
    {
     "name": "stdout",
     "output_type": "stream",
     "text": [
      "Requirement already satisfied: selenium in c:\\users\\hp\\anaconda3\\lib\\site-packages (4.23.1)\n",
      "Requirement already satisfied: urllib3<3,>=1.26 in c:\\users\\hp\\anaconda3\\lib\\site-packages (from urllib3[socks]<3,>=1.26->selenium) (1.26.14)\n",
      "Requirement already satisfied: trio~=0.17 in c:\\users\\hp\\anaconda3\\lib\\site-packages (from selenium) (0.26.0)\n",
      "Requirement already satisfied: trio-websocket~=0.9 in c:\\users\\hp\\anaconda3\\lib\\site-packages (from selenium) (0.11.1)\n",
      "Requirement already satisfied: certifi>=2021.10.8 in c:\\users\\hp\\anaconda3\\lib\\site-packages (from selenium) (2024.6.2)\n",
      "Requirement already satisfied: typing_extensions~=4.9 in c:\\users\\hp\\anaconda3\\lib\\site-packages (from selenium) (4.12.2)\n",
      "Requirement already satisfied: websocket-client~=1.8 in c:\\users\\hp\\anaconda3\\lib\\site-packages (from selenium) (1.8.0)\n",
      "Requirement already satisfied: attrs>=23.2.0 in c:\\users\\hp\\anaconda3\\lib\\site-packages (from trio~=0.17->selenium) (23.2.0)\n",
      "Requirement already satisfied: sortedcontainers in c:\\users\\hp\\anaconda3\\lib\\site-packages (from trio~=0.17->selenium) (2.4.0)\n",
      "Requirement already satisfied: idna in c:\\users\\hp\\anaconda3\\lib\\site-packages (from trio~=0.17->selenium) (3.4)\n",
      "Requirement already satisfied: outcome in c:\\users\\hp\\anaconda3\\lib\\site-packages (from trio~=0.17->selenium) (1.3.0.post0)\n",
      "Requirement already satisfied: sniffio>=1.3.0 in c:\\users\\hp\\anaconda3\\lib\\site-packages (from trio~=0.17->selenium) (1.3.1)\n",
      "Requirement already satisfied: cffi>=1.14 in c:\\users\\hp\\anaconda3\\lib\\site-packages (from trio~=0.17->selenium) (1.15.1)\n",
      "Requirement already satisfied: exceptiongroup in c:\\users\\hp\\anaconda3\\lib\\site-packages (from trio~=0.17->selenium) (1.2.2)\n",
      "Requirement already satisfied: wsproto>=0.14 in c:\\users\\hp\\anaconda3\\lib\\site-packages (from trio-websocket~=0.9->selenium) (1.2.0)\n",
      "Requirement already satisfied: PySocks!=1.5.7,<2.0,>=1.5.6 in c:\\users\\hp\\anaconda3\\lib\\site-packages (from urllib3[socks]<3,>=1.26->selenium) (1.7.1)\n",
      "Requirement already satisfied: pycparser in c:\\users\\hp\\anaconda3\\lib\\site-packages (from cffi>=1.14->trio~=0.17->selenium) (2.21)\n",
      "Requirement already satisfied: h11<1,>=0.9.0 in c:\\users\\hp\\anaconda3\\lib\\site-packages (from wsproto>=0.14->trio-websocket~=0.9->selenium) (0.14.0)\n"
     ]
    }
   ],
   "source": [
    "!pip install selenium"
   ]
  },
  {
   "cell_type": "code",
   "execution_count": 3,
   "id": "24f7edcb",
   "metadata": {
    "scrolled": true
   },
   "outputs": [],
   "source": [
    "import time\n",
    "import pandas as pd\n",
    "from selenium import webdriver\n",
    "from selenium.webdriver.chrome.options import Options\n",
    "from selenium.webdriver.chrome.service import Service\n",
    "from selenium.webdriver.common.by import By\n",
    "from selenium.webdriver.support.ui import WebDriverWait\n",
    "from bs4 import BeautifulSoup\n",
    "import json"
   ]
  },
  {
   "cell_type": "code",
   "execution_count": 4,
   "id": "da26fb94",
   "metadata": {},
   "outputs": [],
   "source": [
    "url = 'https://www.google.com/maps'\n",
    "path = r'C:\\Users\\hp\\Downloads\\chromedriver-win64\\chromedriver-win64\\chromedriver.exe'"
   ]
  },
  {
   "cell_type": "code",
   "execution_count": 10,
   "id": "795289a5",
   "metadata": {},
   "outputs": [],
   "source": [
    "chrome_options = Options()\n",
    "# chrome_options.headless = True\n",
    "# chrome_options.add_argument('--headless')\n",
    "service = Service(path)\n",
    "browser = webdriver.Chrome(service=service, options=chrome_options)\n",
    "browser.get(url)"
   ]
  },
  {
   "cell_type": "code",
   "execution_count": 11,
   "id": "4481e91b",
   "metadata": {},
   "outputs": [],
   "source": [
    "place = browser.find_element(By.XPATH, '//*[@id=\"searchboxinput\"]')\n",
    "place.send_keys('escape rooms')\n",
    "submit = browser.find_element(By.XPATH, '//*[@id=\"searchbox-searchbutton\"]')\n",
    "submit.click()\n",
    "time.sleep(10)"
   ]
  },
  {
   "cell_type": "code",
   "execution_count": 12,
   "id": "a2e3f812",
   "metadata": {},
   "outputs": [],
   "source": [
    "def scrape_gmb_data():\n",
    "    data = []\n",
    "    visited_links = set()\n",
    "\n",
    "    while len(data) < 100:\n",
    "        soup = BeautifulSoup(browser.page_source, 'html.parser')\n",
    "        places = browser.find_elements(By.CLASS_NAME, 'hfpxzc')\n",
    "\n",
    "        for place in places:\n",
    "            if len(data) >= 100:\n",
    "                break\n",
    "\n",
    "            link = place.get_attribute('href')\n",
    "            if link not in visited_links:\n",
    "                visited_links.add(link)\n",
    "\n",
    "                try:\n",
    "                    place.click()\n",
    "\n",
    "                    time.sleep(5)\n",
    "                    detail_soup = BeautifulSoup(browser.page_source, 'html.parser')\n",
    "\n",
    "                    name = detail_soup.find('h1', class_='DUwDvf lfPIob').text if detail_soup.find('h1',\n",
    "                                                                                                       class_='DUwDvf lfPIob') else ''\n",
    "                    address = detail_soup.find('div', class_='Io6YTe fontBodyMedium kR99db').text if detail_soup.find('div', class_='Io6YTe fontBodyMedium kR99db') else 'Address not found'\n",
    "\n",
    "                    phone_elem = detail_soup.find('button', {'data-tooltip': 'Copy phone number'})\n",
    "                    phone = phone_elem.find('div', class_='Io6YTe fontBodyMedium kR99db').text if phone_elem else 'Phone number not found'\n",
    "\n",
    "                    url_elem = detail_soup.find('a', {'data-tooltip': 'Open website'})\n",
    "                    url = url_elem.find('div',\n",
    "                                            class_='Io6YTe fontBodyMedium kR99db').text if url_elem else 'url not found'\n",
    "\n",
    "                    hours_div = detail_soup.find('span', class_='ZDu9vd')\n",
    "                    hours = ''\n",
    "                    if hours_div:\n",
    "                        spans = hours_div.find_all('span')\n",
    "                        if spans:\n",
    "                            hours = spans[-1].text.strip()\n",
    "\n",
    "                    review_elem = detail_soup.find('button', {'class': 'HHrUdb fontTitleSmall rqjGif'})\n",
    "                    if review_elem:\n",
    "                        spans = review_elem.find('span')\n",
    "                        reviews_text = spans.text.strip() if spans else 'review not found'\n",
    "                    else:\n",
    "                        reviews_text = 'review not found'\n",
    "\n",
    "                    data.append({\n",
    "                        'name': name,\n",
    "                        'address':address,\n",
    "                        'phone number':phone,\n",
    "                        'url':link,\n",
    "                        'hours':hours,\n",
    "                        'reviews':reviews_text,\n",
    "                        'links': url\n",
    "\n",
    "\n",
    "                    })\n",
    "                    browser.back()\n",
    "\n",
    "                except Exception as e:\n",
    "                    print(f\"Error extracting data: {e}\")\n",
    "\n",
    "\n",
    "\n",
    "        browser.execute_script(\"window.scrollTo(0, document.body.scrollHeight);\")\n",
    "\n",
    "        time.sleep(5)\n",
    "\n",
    "    return data"
   ]
  },
  {
   "cell_type": "code",
   "execution_count": 14,
   "id": "d747c334",
   "metadata": {},
   "outputs": [
    {
     "ename": "KeyboardInterrupt",
     "evalue": "",
     "output_type": "error",
     "traceback": [
      "\u001b[1;31m---------------------------------------------------------------------------\u001b[0m",
      "\u001b[1;31mKeyboardInterrupt\u001b[0m                         Traceback (most recent call last)",
      "Cell \u001b[1;32mIn[14], line 1\u001b[0m\n\u001b[1;32m----> 1\u001b[0m scraped_data \u001b[38;5;241m=\u001b[39m \u001b[43mscrape_gmb_data\u001b[49m\u001b[43m(\u001b[49m\u001b[43m)\u001b[49m\n",
      "Cell \u001b[1;32mIn[12], line 20\u001b[0m, in \u001b[0;36mscrape_gmb_data\u001b[1;34m()\u001b[0m\n\u001b[0;32m     17\u001b[0m \u001b[38;5;28;01mtry\u001b[39;00m:\n\u001b[0;32m     18\u001b[0m     place\u001b[38;5;241m.\u001b[39mclick()\n\u001b[1;32m---> 20\u001b[0m     \u001b[43mtime\u001b[49m\u001b[38;5;241;43m.\u001b[39;49m\u001b[43msleep\u001b[49m\u001b[43m(\u001b[49m\u001b[38;5;241;43m5\u001b[39;49m\u001b[43m)\u001b[49m\n\u001b[0;32m     21\u001b[0m     detail_soup \u001b[38;5;241m=\u001b[39m BeautifulSoup(browser\u001b[38;5;241m.\u001b[39mpage_source, \u001b[38;5;124m'\u001b[39m\u001b[38;5;124mhtml.parser\u001b[39m\u001b[38;5;124m'\u001b[39m)\n\u001b[0;32m     23\u001b[0m     name \u001b[38;5;241m=\u001b[39m detail_soup\u001b[38;5;241m.\u001b[39mfind(\u001b[38;5;124m'\u001b[39m\u001b[38;5;124mh1\u001b[39m\u001b[38;5;124m'\u001b[39m, class_\u001b[38;5;241m=\u001b[39m\u001b[38;5;124m'\u001b[39m\u001b[38;5;124mDUwDvf lfPIob\u001b[39m\u001b[38;5;124m'\u001b[39m)\u001b[38;5;241m.\u001b[39mtext \u001b[38;5;28;01mif\u001b[39;00m detail_soup\u001b[38;5;241m.\u001b[39mfind(\u001b[38;5;124m'\u001b[39m\u001b[38;5;124mh1\u001b[39m\u001b[38;5;124m'\u001b[39m,\n\u001b[0;32m     24\u001b[0m                                                                                        class_\u001b[38;5;241m=\u001b[39m\u001b[38;5;124m'\u001b[39m\u001b[38;5;124mDUwDvf lfPIob\u001b[39m\u001b[38;5;124m'\u001b[39m) \u001b[38;5;28;01melse\u001b[39;00m \u001b[38;5;124m'\u001b[39m\u001b[38;5;124m'\u001b[39m\n",
      "\u001b[1;31mKeyboardInterrupt\u001b[0m: "
     ]
    }
   ],
   "source": [
    "scraped_data = scrape_gmb_data()"
   ]
  },
  {
   "cell_type": "code",
   "execution_count": null,
   "id": "ab3b4ac4",
   "metadata": {},
   "outputs": [],
   "source": [
    "with open('gmb_data.json', 'w') as f:\n",
    "    json.dump(scraped_data, f, indent=4)\n",
    "\n",
    "print(\"Data saved to gmb_data.json\")\n",
    "browser.quit()"
   ]
  },
  {
   "cell_type": "code",
   "execution_count": null,
   "id": "5fe07693",
   "metadata": {},
   "outputs": [],
   "source": []
  }
 ],
 "metadata": {
  "kernelspec": {
   "display_name": "Python 3 (ipykernel)",
   "language": "python",
   "name": "python3"
  },
  "language_info": {
   "codemirror_mode": {
    "name": "ipython",
    "version": 3
   },
   "file_extension": ".py",
   "mimetype": "text/x-python",
   "name": "python",
   "nbconvert_exporter": "python",
   "pygments_lexer": "ipython3",
   "version": "3.10.9"
  }
 },
 "nbformat": 4,
 "nbformat_minor": 5
}
